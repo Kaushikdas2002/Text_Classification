{
 "cells": [
  {
   "cell_type": "markdown",
   "id": "111cc022",
   "metadata": {},
   "source": [
    "# Text Classification"
   ]
  },
  {
   "cell_type": "markdown",
   "id": "4971279d",
   "metadata": {},
   "source": [
    "### Importing the required libraries"
   ]
  },
  {
   "cell_type": "code",
   "execution_count": 1,
   "id": "0715225d",
   "metadata": {},
   "outputs": [],
   "source": [
    "import numpy as np\n",
    "import pandas as pd\n",
    "import matplotlib.pyplot as plt\n",
    "%matplotlib inline\n",
    "import seaborn as sns\n",
    "sns.set()"
   ]
  },
  {
   "cell_type": "code",
   "execution_count": 2,
   "id": "3c7d8b61",
   "metadata": {},
   "outputs": [],
   "source": [
    "from sklearn.datasets import fetch_20newsgroups"
   ]
  },
  {
   "cell_type": "markdown",
   "id": "6c174b46",
   "metadata": {},
   "source": [
    "### Load Dataset"
   ]
  },
  {
   "cell_type": "code",
   "execution_count": 3,
   "id": "972fa0c2",
   "metadata": {},
   "outputs": [
    {
     "data": {
      "text/plain": [
       "['alt.atheism',\n",
       " 'comp.graphics',\n",
       " 'comp.os.ms-windows.misc',\n",
       " 'comp.sys.ibm.pc.hardware',\n",
       " 'comp.sys.mac.hardware',\n",
       " 'comp.windows.x',\n",
       " 'misc.forsale',\n",
       " 'rec.autos',\n",
       " 'rec.motorcycles',\n",
       " 'rec.sport.baseball',\n",
       " 'rec.sport.hockey',\n",
       " 'sci.crypt',\n",
       " 'sci.electronics',\n",
       " 'sci.med',\n",
       " 'sci.space',\n",
       " 'soc.religion.christian',\n",
       " 'talk.politics.guns',\n",
       " 'talk.politics.mideast',\n",
       " 'talk.politics.misc',\n",
       " 'talk.religion.misc']"
      ]
     },
     "execution_count": 3,
     "metadata": {},
     "output_type": "execute_result"
    }
   ],
   "source": [
    "data = fetch_20newsgroups()\n",
    "data.target_names"
   ]
  },
  {
   "cell_type": "code",
   "execution_count": 4,
   "id": "a2592831",
   "metadata": {},
   "outputs": [],
   "source": [
    "#defining all categories\n",
    "categories = ['alt.atheism',\n",
    " 'comp.graphics',\n",
    " 'comp.os.ms-windows.misc',\n",
    " 'comp.sys.ibm.pc.hardware',\n",
    " 'comp.sys.mac.hardware',\n",
    " 'comp.windows.x',\n",
    " 'misc.forsale',\n",
    " 'rec.autos',\n",
    " 'rec.motorcycles',\n",
    " 'rec.sport.baseball',\n",
    " 'rec.sport.hockey',\n",
    " 'sci.crypt',\n",
    " 'sci.electronics',\n",
    " 'sci.med',\n",
    " 'sci.space',\n",
    " 'soc.religion.christian',\n",
    " 'talk.politics.guns',\n",
    " 'talk.politics.mideast',\n",
    " 'talk.politics.misc',\n",
    " 'talk.religion.misc']"
   ]
  },
  {
   "cell_type": "markdown",
   "id": "5c2a52ba",
   "metadata": {},
   "source": [
    "### Split Dataset"
   ]
  },
  {
   "cell_type": "code",
   "execution_count": 5,
   "id": "4be37454",
   "metadata": {},
   "outputs": [],
   "source": [
    "#training the data on the categories\n",
    "train = fetch_20newsgroups(subset='train',categories=categories)"
   ]
  },
  {
   "cell_type": "code",
   "execution_count": 6,
   "id": "b68da05a",
   "metadata": {},
   "outputs": [],
   "source": [
    "#testing the data on the categories\n",
    "test = fetch_20newsgroups(subset='test',categories=categories)"
   ]
  },
  {
   "cell_type": "code",
   "execution_count": 7,
   "id": "410f098f",
   "metadata": {},
   "outputs": [
    {
     "name": "stdout",
     "output_type": "stream",
     "text": [
      "From: banschbach@vms.ocom.okstate.edu\n",
      "Subject: Re: Candida(yeast) Bloom, Fact or Fiction\n",
      "Organization: OSU College of Osteopathic Medicine\n",
      "Lines: 91\n",
      "Nntp-Posting-Host: vms.ocom.okstate.edu\n",
      "\n",
      "In article <1rp8p1$2d3@usenet.INS.CWRU.Edu>, esd3@po.CWRU.Edu (Elisabeth S. Davidson) writes:\n",
      "> \n",
      "> In a previous article, banschbach@vms.ocom.okstate.edu () says:\n",
      ">>least a few \"enlightened\" physicians practicing in the U.S.  It's really \n",
      ">>too bad that most U.S. medical schools don't cover nutrition because if \n",
      ">>they did, candida would not be viewed as a non-disease by so many in the \n",
      ">>medical profession.\n",
      "> \n",
      "> Case Western Reserve Med School teaches nutrition in its own section as\n",
      "> well as covering it in other sections as they apply (i.e. B12\n",
      "> deficiency in neuro as a cause of neuropathy, B12 deficiency in\n",
      "> hematology as a cause of megaloblastic anemia), yet I sill\n",
      "> hold the viewpoint of mainstream medicine:  candida can cause\n",
      "> mucocutaneous candidiasis, and, in already very sick patients\n",
      "> with damaged immune systems like AIDS and cancer patients,\n",
      "> systemic candida infection.  I think \"The Yeast Connection\" is\n",
      "> a bunch of hooey.  What does this have to do with how well\n",
      "> nutrition is taught, anyway?\n",
      "\n",
      "Elisabeth, let's set the record straight for the nth time, I have not read \n",
      "\"The Yeast Connection\".  So anything that I say is not due to brainwashing \n",
      "by this \"hated\" book.  It's okay I guess to hate the book, by why hate me?\n",
      "Elisabeth, I'm going to quote from Zinsser's Microbiology, 20th Edition.\n",
      "A book that you should be familiar with and not \"hate\". \"Candida species \n",
      "colonize the mucosal surfaces of all humans during birth or shortly \n",
      "thereafter.  The risk of endogenous infection is clearly ever present.  \n",
      "Indeed, candidiasis occurs worldwide and is the most common systemic \n",
      "mycosis.\"  Neutrophils play the main role in preventing a systemic \n",
      "infection(candidiasis) so you would have to have a low neutrophil count or \n",
      "\"sick\" neutrophils to see a systemic infection.  Poor diet and persistent \n",
      "parasitic infestation set many third world residents up for candidiasis.\n",
      "Your assessment of candidiasis in the U.S. is correct and I do not dispute \n",
      "it.\n",
      "\n",
      "What I posted was a discussion of candida blooms, without systemic \n",
      "infection.  These blooms would be responsible for local sites of irritation\n",
      "(GI tract, mouth, vagina and sinus cavity).  Knocking down the bacterial \n",
      "competition for candida was proposed as a possible trigger for candida \n",
      "blooms.  Let me quote from Zinsser's again: \"However, some factors, such as \n",
      "the use of a broad-spectrum antibacterial antibiotic, may predispose to \n",
      "both mucosal and systemic infections\".  I was addressing mucosal infections\n",
      "(I like the term blooms better).  The nutrition course that I teach covers \n",
      "this effect of antibiotic treatment as well as the \"cure\".  I guess that \n",
      "your nutrition course does not, too bad.  \n",
      "\n",
      "\n",
      ">>Here is a brief primer on yeast.  Yeast infections, as they are commonly \n",
      ">>called, are not truely caused by yeasts.  The most common organism responsible\n",
      ">>for this type of infection is Candida albicans or Monilia which is actually a \n",
      ">>yeast-like fungus.  \n",
      "> \n",
      "> Well, maybe I'm getting picky, but I always thought that a yeast\n",
      "> was one form that a fungus could exist in, the other being the\n",
      "> mold form.  Many fungi can occur as either yeasts or molds, \n",
      "> depending on environment.  Candida exibits what is known as\n",
      "> reverse dimorphism - it exists as a mold in the tissues\n",
      "> but exists as a yeast in the environment.  Should we maybe\n",
      "> call it a mold infection?  a fungus infection?  Maybe we\n",
      "> should say it is caused by a mold-like fungus.\n",
      ">  \n",
      ">> \n",
      ">>Martin Banschbach, Ph.D.\n",
      ">>Professor of Biochemistry and Chairman\n",
      ">>Department of Biochemistry and Microbiology\n",
      ">>OSU College of Osteopathic Medicine\n",
      ">>1111 West 17th St.\n",
      ">>Tulsa, Ok. 74107\n",
      ">>\n",
      "> \n",
      "> You're the chairman of Biochem and Micro and you didn't know \n",
      "> that a yeast is a form of a fungus?  (shudder)\n",
      "> Or maybe you did know, and were oversimplifying?\n",
      "\n",
      "My, my Elisabeth, do I detect a little of Steve Dyer in you?  If you \n",
      "noticed my faculty rank, I'm a biochemist, not a microbiologist.\n",
      "Candida is classifed as a fungus(according to Zinsser's).  But, as you point \n",
      "out, it displays dimorphism.  It is capable of producing yeast cells, \n",
      "pseudohyphae and true hyphae.  Elisabeth, you are probably a microbiologist \n",
      "and that makes a lot of sense to you.  To a biochemist, it's a lot of \n",
      "Greek.  So I called it a yeast-like fungus, go ahead and crucify me.\n",
      "\n",
      "You know Elisabeth, I still haven't been able to figure out why such a small \n",
      "little organism like Candida can bring out so much hostility in people in \n",
      "Sci. Med.  And I must admitt that I got sucked into the mud slinging too.\n",
      "I keep hoping that if people will just take the time to think about what \n",
      "I've said, that it will make sense.  I'm not asking anyone here to buy into \n",
      "\"The Yeast Connection\" book because I don't know what's in that book, plain \n",
      "and simple. And to be honest with you, I'm beginning to wish that it was never \n",
      "written.\n",
      "\n",
      "Marty B.\n",
      "\n"
     ]
    }
   ],
   "source": [
    "print(test.data[5])"
   ]
  },
  {
   "cell_type": "code",
   "execution_count": 8,
   "id": "5481b1f2",
   "metadata": {},
   "outputs": [
    {
     "name": "stdout",
     "output_type": "stream",
     "text": [
      "From: dfo@vttoulu.tko.vtt.fi (Foxvog Douglas)\n",
      "Subject: Re: Rewording the Second Amendment (ideas)\n",
      "Organization: VTT\n",
      "Lines: 58\n",
      "\n",
      "In article <1r1eu1$4t@transfer.stratus.com> cdt@sw.stratus.com (C. D. Tavares) writes:\n",
      ">In article <1993Apr20.083057.16899@ousrvr.oulu.fi>, dfo@vttoulu.tko.vtt.fi (Foxvog Douglas) writes:\n",
      ">> In article <1qv87v$4j3@transfer.stratus.com> cdt@sw.stratus.com (C. D. Tavares) writes:\n",
      ">> >In article <C5n3GI.F8F@ulowell.ulowell.edu>, jrutledg@cs.ulowell.edu (John Lawrence Rutledge) writes:\n",
      ">\n",
      ">> >> The massive destructive power of many modern weapons, makes the\n",
      ">> >> cost of an accidental or crimial usage of these weapons to great.\n",
      ">> >> The weapons of mass destruction need to be in the control of\n",
      ">> >> the government only.  Individual access would result in the\n",
      ">> >> needless deaths of millions.  This makes the right of the people\n",
      ">> >> to keep and bear many modern weapons non-existant.\n",
      "\n",
      ">> >Thanks for stating where you're coming from.  Needless to say, I\n",
      ">> >disagree on every count.\n",
      "\n",
      ">> You believe that individuals should have the right to own weapons of\n",
      ">> mass destruction?  I find it hard to believe that you would support a \n",
      ">> neighbor's right to keep nuclear weapons, biological weapons, and nerve\n",
      ">> gas on his/her property.  \n",
      "\n",
      ">> If we cannot even agree on keeping weapons of mass destruction out of\n",
      ">> the hands of individuals, can there be any hope for us?\n",
      "\n",
      ">I don't sign any blank checks.\n",
      "\n",
      "Of course.  The term must be rigidly defined in any bill.\n",
      "\n",
      ">When Doug Foxvog says \"weapons of mass destruction,\" he means CBW and\n",
      ">nukes.  When Sarah Brady says \"weapons of mass destruction\" she means\n",
      ">Street Sweeper shotguns and semi-automatic SKS rifles.  \n",
      "\n",
      "I doubt she uses this term for that.  You are using a quote allegedly\n",
      "from her, can you back it up?\n",
      "\n",
      ">When John\n",
      ">Lawrence Rutledge says \"weapons of mass destruction,\" and then immediately\n",
      ">follows it with:\n",
      "\n",
      ">>> The US has thousands of people killed each year by handguns,\n",
      ">>> this number can easily be reduced by putting reasonable restrictions\n",
      ">>> on them.\n",
      "\n",
      ">...what does Rutledge mean by the term?\n",
      "\n",
      "I read the article as presenting first an argument about weapons of mass\n",
      "destruction (as commonly understood) and then switching to other topics.\n",
      "The first point evidently was to show that not all weapons should be\n",
      "allowed, and then the later analysis was, given this understanding, to\n",
      "consider another class.\n",
      "\n",
      ">cdt@rocket.sw.stratus.com   --If you believe that I speak for my company,\n",
      ">OR cdt@vos.stratus.com        write today for my special Investors' Packet...\n",
      "\n",
      "\n",
      "\n",
      "-- \n",
      "doug foxvog\n",
      "douglas.foxvog@vtt.fi\n",
      "\n"
     ]
    }
   ],
   "source": [
    "print(train.data[5])"
   ]
  },
  {
   "cell_type": "code",
   "execution_count": 9,
   "id": "937fbfc6",
   "metadata": {},
   "outputs": [
    {
     "name": "stdout",
     "output_type": "stream",
     "text": [
      "11314\n"
     ]
    }
   ],
   "source": [
    "print(len(train.data))"
   ]
  },
  {
   "cell_type": "markdown",
   "id": "2e97dc08",
   "metadata": {},
   "source": [
    "### Feature Extraction and Model Training"
   ]
  },
  {
   "cell_type": "code",
   "execution_count": 10,
   "id": "5bed53a6",
   "metadata": {},
   "outputs": [],
   "source": [
    "#importing the required packages\n",
    "from sklearn.feature_extraction.text import TfidfVectorizer\n",
    "from sklearn.naive_bayes import MultinomialNB\n",
    "from sklearn.pipeline import make_pipeline"
   ]
  },
  {
   "cell_type": "code",
   "execution_count": 11,
   "id": "4198f4e6",
   "metadata": {},
   "outputs": [
    {
     "data": {
      "text/plain": [
       "Pipeline(steps=[('tfidfvectorizer', TfidfVectorizer()),\n",
       "                ('multinomialnb', MultinomialNB())])"
      ]
     },
     "execution_count": 11,
     "metadata": {},
     "output_type": "execute_result"
    }
   ],
   "source": [
    "#creating a model based on multinomial naive bayes\n",
    "model = make_pipeline(TfidfVectorizer(),MultinomialNB())\n",
    "#training the model with train data\n",
    "model.fit(train.data,train.target)"
   ]
  },
  {
   "cell_type": "code",
   "execution_count": 12,
   "id": "6862cec0",
   "metadata": {},
   "outputs": [],
   "source": [
    "labels = model.predict(test.data)"
   ]
  },
  {
   "cell_type": "markdown",
   "id": "1c040af5",
   "metadata": {},
   "source": [
    "### Evaluate Model"
   ]
  },
  {
   "cell_type": "code",
   "execution_count": 15,
   "id": "f045c031",
   "metadata": {},
   "outputs": [],
   "source": [
    "#creating confusion matrix and heatmap\n",
    "from sklearn.metrics import confusion_matrix,classification_report,accuracy_score\n",
    "mat = confusion_matrix(test.target,labels)"
   ]
  },
  {
   "cell_type": "code",
   "execution_count": 14,
   "id": "a1294f4e",
   "metadata": {},
   "outputs": [
    {
     "data": {
      "text/plain": [
       "Text(89.133125, 0.5, 'predicted labels')"
      ]
     },
     "execution_count": 14,
     "metadata": {},
     "output_type": "execute_result"
    },
    {
     "data": {
      "image/png": "[encoded data removed]",
      "text/plain": [
       "<Figure size 432x288 with 1 Axes>"
      ]
     },
     "metadata": {},
     "output_type": "display_data"
    }
   ],
   "source": [
    "sns.heatmap(mat.T,square=True,annot=True,fmt='d',cbar=False,xticklabels=train.target_names,yticklabels=train.target_names)\n",
    "plt.xlabel('true labels')\n",
    "plt.ylabel('predicted labels')"
   ]
  },
  {
   "cell_type": "code",
   "execution_count": 16,
   "id": "e70f92ba",
   "metadata": {},
   "outputs": [
    {
     "name": "stdout",
     "output_type": "stream",
     "text": [
      "              precision    recall  f1-score   support\n",
      "\n",
      "           0       0.80      0.52      0.63       319\n",
      "           1       0.81      0.65      0.72       389\n",
      "           2       0.82      0.65      0.73       394\n",
      "           3       0.67      0.78      0.72       392\n",
      "           4       0.86      0.77      0.81       385\n",
      "           5       0.89      0.75      0.82       395\n",
      "           6       0.93      0.69      0.80       390\n",
      "           7       0.85      0.92      0.88       396\n",
      "           8       0.94      0.93      0.93       398\n",
      "           9       0.92      0.90      0.91       397\n",
      "          10       0.89      0.97      0.93       399\n",
      "          11       0.59      0.97      0.74       396\n",
      "          12       0.84      0.60      0.70       393\n",
      "          13       0.92      0.74      0.82       396\n",
      "          14       0.84      0.89      0.87       394\n",
      "          15       0.44      0.98      0.61       398\n",
      "          16       0.64      0.94      0.76       364\n",
      "          17       0.93      0.91      0.92       376\n",
      "          18       0.96      0.42      0.58       310\n",
      "          19       0.97      0.14      0.24       251\n",
      "\n",
      "    accuracy                           0.77      7532\n",
      "   macro avg       0.83      0.76      0.76      7532\n",
      "weighted avg       0.82      0.77      0.77      7532\n",
      "\n"
     ]
    }
   ],
   "source": [
    "print(classification_report(test.target,labels))"
   ]
  },
  {
   "cell_type": "code",
   "execution_count": 17,
   "id": "fb4e5c82",
   "metadata": {},
   "outputs": [
    {
     "data": {
      "text/plain": [
       "0.7738980350504514"
      ]
     },
     "execution_count": 17,
     "metadata": {},
     "output_type": "execute_result"
    }
   ],
   "source": [
    "accuracy_score(test.target,labels)"
   ]
  },
  {
   "cell_type": "markdown",
   "id": "5835aa2a",
   "metadata": {},
   "source": [
    "### Make Predictions"
   ]
  },
  {
   "cell_type": "code",
   "execution_count": 18,
   "id": "f546c24c",
   "metadata": {},
   "outputs": [],
   "source": [
    "#predicting category on new data based on trained model\n",
    "def predict_category(s,train=train,model=model):\n",
    "    pred = model.predict([s])\n",
    "    return train.target_names[pred[0]]"
   ]
  },
  {
   "cell_type": "code",
   "execution_count": 19,
   "id": "0bd3dc07",
   "metadata": {},
   "outputs": [
    {
     "data": {
      "text/plain": [
       "'soc.religion.christian'"
      ]
     },
     "execution_count": 19,
     "metadata": {},
     "output_type": "execute_result"
    }
   ],
   "source": [
    "predict_category('Jesus Christ')"
   ]
  },
  {
   "cell_type": "code",
   "execution_count": 20,
   "id": "fe569496",
   "metadata": {},
   "outputs": [
    {
     "data": {
      "text/plain": [
       "'sci.space'"
      ]
     },
     "execution_count": 20,
     "metadata": {},
     "output_type": "execute_result"
    }
   ],
   "source": [
    "predict_category('Sending Chandrayaan 3 to the moon')"
   ]
  },
  {
   "cell_type": "code",
   "execution_count": 21,
   "id": "64b8cb67",
   "metadata": {},
   "outputs": [
    {
     "data": {
      "text/plain": [
       "'talk.politics.mideast'"
      ]
     },
     "execution_count": 21,
     "metadata": {},
     "output_type": "execute_result"
    }
   ],
   "source": [
    "predict_category('India is the land of Sanatans')"
   ]
  },
  {
   "cell_type": "code",
   "execution_count": 22,
   "id": "e32d5eb5",
   "metadata": {},
   "outputs": [
    {
     "data": {
      "text/plain": [
       "'rec.autos'"
      ]
     },
     "execution_count": 22,
     "metadata": {},
     "output_type": "execute_result"
    }
   ],
   "source": [
    "predict_category('Audi is better than BMW')"
   ]
  },
  {
   "cell_type": "code",
   "execution_count": 23,
   "id": "bcb4aa71",
   "metadata": {},
   "outputs": [
    {
     "data": {
      "text/plain": [
       "'talk.politics.misc'"
      ]
     },
     "execution_count": 23,
     "metadata": {},
     "output_type": "execute_result"
    }
   ],
   "source": [
    "predict_category('President of India')"
   ]
  },
  {
   "cell_type": "markdown",
   "id": "0c2f2539",
   "metadata": {},
   "source": [
    "# Our model is 77% accurate"
   ]
  }
 ],
 "metadata": {
  "kernelspec": {
   "display_name": "Python 3 (ipykernel)",
   "language": "python",
   "name": "python3"
  },
  "language_info": {
   "codemirror_mode": {
    "name": "ipython",
    "version": 3
   },
   "file_extension": ".py",
   "mimetype": "text/x-python",
   "name": "python",
   "nbconvert_exporter": "python",
   "pygments_lexer": "ipython3",
   "version": "3.9.7"
  }
 },
 "nbformat": 4,
 "nbformat_minor": 5
}
